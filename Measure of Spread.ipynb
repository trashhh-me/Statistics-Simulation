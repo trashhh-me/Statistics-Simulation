{
 "cells": [
  {
   "cell_type": "markdown",
   "id": "8d92c2e2",
   "metadata": {},
   "source": [
    "<h1><b>Measure of Spread</b></h1>\n",
    "\n",
    "Measure of spread gives the variability in the data and how well the data is distributed.</br>\n",
    "Can be divided into 4 parts:<br>\n",
    "1)Range: It gives how well the data is spread out.<br>\n",
    "2)Quartile: Quartiles divide the rank-ordered dataset into four equal parts <br>\n",
    "3)Variance: Gives How Spread out the number is from its mean. <br>\n",
    "4)Standard Deviation: The square root of variance is standard deviation. It gives the exact distances from the mean. <br>"
   ]
  },
  {
   "cell_type": "code",
   "execution_count": 1,
   "id": "e8893cfa",
   "metadata": {},
   "outputs": [],
   "source": [
    "import numpy as np\n",
    "import matplotlib.pyplot as plt"
   ]
  },
  {
   "cell_type": "markdown",
   "id": "976437c4",
   "metadata": {},
   "source": [
    "<h1>Finding Range</h1>"
   ]
  },
  {
   "cell_type": "code",
   "execution_count": 5,
   "id": "0d389f0f",
   "metadata": {},
   "outputs": [
    {
     "data": {
      "text/plain": [
       "array([ 7, 95, 39, 93, 95, 35, 47, 72, 36, 33, 43, 92, 52, 22, 41,  4, 50,\n",
       "       43, 72, 78])"
      ]
     },
     "execution_count": 5,
     "metadata": {},
     "output_type": "execute_result"
    }
   ],
   "source": [
    "ran = np.random.randint(1,100,20)\n",
    "ran"
   ]
  },
  {
   "cell_type": "code",
   "execution_count": 7,
   "id": "9a2e4382",
   "metadata": {},
   "outputs": [
    {
     "name": "stdout",
     "output_type": "stream",
     "text": [
      "the range is 91\n"
     ]
    }
   ],
   "source": [
    "print(\"the range is\", np.max(ran)-np.min(ran))\n"
   ]
  },
  {
   "cell_type": "markdown",
   "id": "88eb5318",
   "metadata": {},
   "source": [
    "<h1><b>Finding Quartile</b></h1>\n"
   ]
  },
  {
   "cell_type": "code",
   "execution_count": 9,
   "id": "159f7b11",
   "metadata": {},
   "outputs": [
    {
     "name": "stdout",
     "output_type": "stream",
     "text": [
      "the first quartile is: 35.75\n",
      "the second quartile is: 45.0\n",
      "the third quartilr is: 73.5\n"
     ]
    }
   ],
   "source": [
    "q1 = np.percentile(ran,25)\n",
    "q2 = np.percentile(ran,50)\n",
    "q3 = np.percentile(ran, 75)\n",
    "print(\"the first quartile is:\", q1)\n",
    "print(\"the second quartile is:\",q2)\n",
    "print(\"the third quartilr is:\",q3)"
   ]
  },
  {
   "cell_type": "markdown",
   "id": "20e280bb",
   "metadata": {},
   "source": [
    "<h1><b>Finding Variance</b></h1>"
   ]
  },
  {
   "cell_type": "code",
   "execution_count": 11,
   "id": "8039bf55",
   "metadata": {},
   "outputs": [
    {
     "data": {
      "text/plain": [
       "array([ 0.95558285, -0.25564183,  0.89798806, -0.83684647,  0.08342897,\n",
       "        0.5196084 ,  0.24023756,  0.06771973, -1.64460342, -1.90750921,\n",
       "        2.64411734,  1.05874064,  2.28618227,  0.35291302, -0.71324138,\n",
       "        0.24839547, -1.08152745,  0.77765037,  0.45080531, -0.00652329,\n",
       "       -0.4788723 ,  0.18070028, -1.03190876, -0.53651381,  0.24933612,\n",
       "        0.82380111, -0.39630067, -1.35100486, -1.32587904, -0.14848955,\n",
       "       -2.05672183,  1.24182516,  0.27249345,  0.56645656,  1.88600923,\n",
       "       -0.58679436, -1.45883584,  0.68068677, -1.94363294,  0.81249162,\n",
       "        0.99675002, -1.0835164 , -1.23954337,  0.41444924,  1.0441298 ,\n",
       "        0.53000373,  0.30289664, -0.63673405, -1.10610527, -2.1191253 ,\n",
       "       -0.68192157, -0.44878527,  1.19709235,  0.413135  ,  1.18519225,\n",
       "       -2.30807084, -0.90740911, -0.95498289, -0.31031408,  0.75102968,\n",
       "        0.48301121,  0.37767341,  0.26294204,  2.13740056,  0.98920322,\n",
       "       -0.57209836,  0.08671314, -0.42186839, -0.34666366,  0.61111002,\n",
       "        0.81129149, -0.46834554, -0.1997928 ,  0.08520531,  0.69648361,\n",
       "        1.64698204,  1.9043019 , -0.08799305,  0.92724709,  0.51617795,\n",
       "        0.5319541 ,  0.74171349,  2.22480034, -0.57037922, -0.32677598,\n",
       "        1.34566464, -1.66080353,  0.05289463,  0.47765183,  0.44392275,\n",
       "        1.20231602, -0.54474337, -0.7935369 , -0.67082218, -1.53177858,\n",
       "       -0.43416388,  0.36790016, -0.86687116, -1.46263223, -0.60460673])"
      ]
     },
     "execution_count": 11,
     "metadata": {},
     "output_type": "execute_result"
    }
   ],
   "source": [
    "population = np.random.randn(100)\n",
    "population"
   ]
  },
  {
   "cell_type": "code",
   "execution_count": 13,
   "id": "d62ab002",
   "metadata": {},
   "outputs": [
    {
     "data": {
      "text/plain": [
       "array([-1.23954337,  1.0441298 , -1.64460342, -0.67082218,  0.44392275,\n",
       "        1.64698204, -0.00652329,  0.77765037,  0.75102968, -2.30807084,\n",
       "        1.24182516, -1.90750921, -1.03190876, -1.35100486, -0.44878527,\n",
       "        0.30289664,  0.81129149, -0.57209836,  0.35291302,  0.44392275,\n",
       "        0.89798806, -0.25564183,  1.05874064,  0.99675002,  0.41444924,\n",
       "       -1.03190876, -0.57037922,  1.05874064, -0.31031408,  0.08520531])"
      ]
     },
     "execution_count": 13,
     "metadata": {},
     "output_type": "execute_result"
    }
   ],
   "source": [
    "sample = np.random.choice(population,30)\n",
    "sample"
   ]
  },
  {
   "cell_type": "code",
   "execution_count": 14,
   "id": "1b7b54b0",
   "metadata": {},
   "outputs": [
    {
     "data": {
      "text/plain": [
       "-0.03402252808109198"
      ]
     },
     "execution_count": 14,
     "metadata": {},
     "output_type": "execute_result"
    }
   ],
   "source": [
    "np.mean(sample)"
   ]
  },
  {
   "cell_type": "code",
   "execution_count": 15,
   "id": "4740ad76",
   "metadata": {},
   "outputs": [
    {
     "data": {
      "text/plain": [
       "1.0198646530893385"
      ]
     },
     "execution_count": 15,
     "metadata": {},
     "output_type": "execute_result"
    }
   ],
   "source": [
    "np.var(sample)"
   ]
  },
  {
   "cell_type": "markdown",
   "id": "9648dab8",
   "metadata": {},
   "source": [
    "<h1><b>Findind Standard Deviation</b></h1>"
   ]
  },
  {
   "cell_type": "code",
   "execution_count": 17,
   "id": "8a8ed6aa",
   "metadata": {},
   "outputs": [
    {
     "data": {
      "text/plain": [
       "1.0346760179016383"
      ]
     },
     "execution_count": 17,
     "metadata": {},
     "output_type": "execute_result"
    }
   ],
   "source": [
    "np.std(population)"
   ]
  },
  {
   "cell_type": "code",
   "execution_count": 18,
   "id": "05dac3cd",
   "metadata": {},
   "outputs": [
    {
     "data": {
      "text/plain": [
       "1.0098834849077087"
      ]
     },
     "execution_count": 18,
     "metadata": {},
     "output_type": "execute_result"
    }
   ],
   "source": [
    "np.std(sample)"
   ]
  },
  {
   "cell_type": "code",
   "execution_count": 22,
   "id": "1b1a4b18",
   "metadata": {},
   "outputs": [],
   "source": [
    "import math as m"
   ]
  },
  {
   "cell_type": "code",
   "execution_count": 26,
   "id": "2a62d8e3",
   "metadata": {},
   "outputs": [
    {
     "data": {
      "text/plain": [
       "1.0346760179016383"
      ]
     },
     "execution_count": 26,
     "metadata": {},
     "output_type": "execute_result"
    }
   ],
   "source": [
    "m.sqrt(np.var(population))"
   ]
  },
  {
   "cell_type": "code",
   "execution_count": 27,
   "id": "196e9a81",
   "metadata": {},
   "outputs": [
    {
     "data": {
      "text/plain": [
       "1.0098834849077087"
      ]
     },
     "execution_count": 27,
     "metadata": {},
     "output_type": "execute_result"
    }
   ],
   "source": [
    "m.sqrt(np.var(sample))"
   ]
  },
  {
   "cell_type": "code",
   "execution_count": null,
   "id": "d7bd96b8",
   "metadata": {},
   "outputs": [],
   "source": []
  }
 ],
 "metadata": {
  "kernelspec": {
   "display_name": "Python 3 (ipykernel)",
   "language": "python",
   "name": "python3"
  },
  "language_info": {
   "codemirror_mode": {
    "name": "ipython",
    "version": 3
   },
   "file_extension": ".py",
   "mimetype": "text/x-python",
   "name": "python",
   "nbconvert_exporter": "python",
   "pygments_lexer": "ipython3",
   "version": "3.9.13"
  }
 },
 "nbformat": 4,
 "nbformat_minor": 5
}
