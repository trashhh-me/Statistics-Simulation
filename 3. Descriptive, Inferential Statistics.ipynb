{
 "cells": [
  {
   "cell_type": "markdown",
   "id": "68f53af7",
   "metadata": {},
   "source": [
    "# Descriptive Statisitcs: \n",
    "Deals majorly with the description of the data which is already known to us.\n"
   ]
  },
  {
   "cell_type": "code",
   "execution_count": 38,
   "id": "38a5d050",
   "metadata": {},
   "outputs": [],
   "source": [
    "import numpy as np\n",
    "import pandas as pd\n",
    "import matplotlib.pyplot as plt\n",
    "%matplotlib inline"
   ]
  },
  {
   "cell_type": "code",
   "execution_count": 4,
   "id": "17aec8c0",
   "metadata": {},
   "outputs": [
    {
     "data": {
      "text/html": [
       "<div>\n",
       "<style scoped>\n",
       "    .dataframe tbody tr th:only-of-type {\n",
       "        vertical-align: middle;\n",
       "    }\n",
       "\n",
       "    .dataframe tbody tr th {\n",
       "        vertical-align: top;\n",
       "    }\n",
       "\n",
       "    .dataframe thead th {\n",
       "        text-align: right;\n",
       "    }\n",
       "</style>\n",
       "<table border=\"1\" class=\"dataframe\">\n",
       "  <thead>\n",
       "    <tr style=\"text-align: right;\">\n",
       "      <th></th>\n",
       "      <th>id</th>\n",
       "      <th>age</th>\n",
       "    </tr>\n",
       "  </thead>\n",
       "  <tbody>\n",
       "    <tr>\n",
       "      <th>0</th>\n",
       "      <td>0</td>\n",
       "      <td>29</td>\n",
       "    </tr>\n",
       "    <tr>\n",
       "      <th>1</th>\n",
       "      <td>1</td>\n",
       "      <td>21</td>\n",
       "    </tr>\n",
       "    <tr>\n",
       "      <th>2</th>\n",
       "      <td>2</td>\n",
       "      <td>22</td>\n",
       "    </tr>\n",
       "    <tr>\n",
       "      <th>3</th>\n",
       "      <td>3</td>\n",
       "      <td>27</td>\n",
       "    </tr>\n",
       "    <tr>\n",
       "      <th>4</th>\n",
       "      <td>4</td>\n",
       "      <td>25</td>\n",
       "    </tr>\n",
       "    <tr>\n",
       "      <th>5</th>\n",
       "      <td>5</td>\n",
       "      <td>23</td>\n",
       "    </tr>\n",
       "  </tbody>\n",
       "</table>\n",
       "</div>"
      ],
      "text/plain": [
       "   id  age\n",
       "0   0   29\n",
       "1   1   21\n",
       "2   2   22\n",
       "3   3   27\n",
       "4   4   25\n",
       "5   5   23"
      ]
     },
     "execution_count": 4,
     "metadata": {},
     "output_type": "execute_result"
    }
   ],
   "source": [
    "df1 = pd.DataFrame(dict(id=range(6), age=np.random.randint(18,31, 6)))\n",
    "df1"
   ]
  },
  {
   "cell_type": "markdown",
   "id": "0d6015a1",
   "metadata": {},
   "source": [
    "Note: Panda has a submodule DataFrame that helps visualize data in a frame i.e. a rectangular row and column form. Here, it is a dictionary data type as there is a key and a value(id, age = keys with numeric values) so dict is used. ID range is fixed. A random values of integer is generated with the use of numpy library."
   ]
  },
  {
   "cell_type": "markdown",
   "id": "76c74d48",
   "metadata": {},
   "source": [
    "# Revision (Numpy Analysis)"
   ]
  },
  {
   "cell_type": "code",
   "execution_count": 13,
   "id": "989ce624",
   "metadata": {},
   "outputs": [
    {
     "name": "stdout",
     "output_type": "stream",
     "text": [
      "24.5\n",
      "25.0\n",
      "27\n",
      "12\n",
      "15.583333333333334\n",
      "3.947573094109004\n",
      "22.25\n",
      "25.0\n",
      "27.0\n"
     ]
    }
   ],
   "source": [
    "age=np.random.randint(18,31, 6)\n",
    "print(np.mean(age))\n",
    "print(np.median(age))\n",
    "import statistics as m\n",
    "print(m.mode(age))\n",
    "print(np.max(age)-np.min(age))\n",
    "print(np.var(age))\n",
    "print(np.std(age))\n",
    "print(np.percentile(age,25))\n",
    "print(np.percentile(age,50))\n",
    "print(np.percentile(age,75))"
   ]
  },
  {
   "cell_type": "markdown",
   "id": "d67b8098",
   "metadata": {},
   "source": [
    "# Pandas Analysis\n",
    "\n",
    "Two ways/code format for statistical analysis in pandas\n",
    "1) df1[\"variable_name\"].mean()\n",
    "2) df1.age.mean()"
   ]
  },
  {
   "cell_type": "code",
   "execution_count": 16,
   "id": "62c933fd",
   "metadata": {},
   "outputs": [
    {
     "data": {
      "text/plain": [
       "24.5"
      ]
     },
     "execution_count": 16,
     "metadata": {},
     "output_type": "execute_result"
    }
   ],
   "source": [
    "df1[\"age\"].mean()"
   ]
  },
  {
   "cell_type": "code",
   "execution_count": 17,
   "id": "3a28bef9",
   "metadata": {},
   "outputs": [
    {
     "data": {
      "text/plain": [
       "24.0"
      ]
     },
     "execution_count": 17,
     "metadata": {},
     "output_type": "execute_result"
    }
   ],
   "source": [
    "df1.age.median()"
   ]
  },
  {
   "cell_type": "code",
   "execution_count": 18,
   "id": "5ed26698",
   "metadata": {},
   "outputs": [
    {
     "data": {
      "text/plain": [
       "0    21\n",
       "1    22\n",
       "2    23\n",
       "3    25\n",
       "4    27\n",
       "5    29\n",
       "Name: age, dtype: int32"
      ]
     },
     "execution_count": 18,
     "metadata": {},
     "output_type": "execute_result"
    }
   ],
   "source": [
    "df1.age.mode()"
   ]
  },
  {
   "cell_type": "code",
   "execution_count": 19,
   "id": "edb2d0bd",
   "metadata": {},
   "outputs": [
    {
     "data": {
      "text/plain": [
       "9.5"
      ]
     },
     "execution_count": 19,
     "metadata": {},
     "output_type": "execute_result"
    }
   ],
   "source": [
    "df1.age.var()"
   ]
  },
  {
   "cell_type": "code",
   "execution_count": 20,
   "id": "cc4364e0",
   "metadata": {},
   "outputs": [
    {
     "data": {
      "text/plain": [
       "3.082207001484488"
      ]
     },
     "execution_count": 20,
     "metadata": {},
     "output_type": "execute_result"
    }
   ],
   "source": [
    "df1.age.std()"
   ]
  },
  {
   "cell_type": "code",
   "execution_count": 22,
   "id": "33f0435f",
   "metadata": {},
   "outputs": [
    {
     "data": {
      "text/plain": [
       "8"
      ]
     },
     "execution_count": 22,
     "metadata": {},
     "output_type": "execute_result"
    }
   ],
   "source": [
    "df1.age.max()-df1.age.min()"
   ]
  },
  {
   "cell_type": "markdown",
   "id": "7bfaeff6",
   "metadata": {},
   "source": [
    "Note: In pandas quartile has submodule named quantile which takes decimal values like .25, .5, .75"
   ]
  },
  {
   "cell_type": "code",
   "execution_count": 25,
   "id": "a1b24ab0",
   "metadata": {},
   "outputs": [
    {
     "data": {
      "text/plain": [
       "0.25    22.25\n",
       "0.50    24.00\n",
       "0.75    26.50\n",
       "Name: age, dtype: float64"
      ]
     },
     "execution_count": 25,
     "metadata": {},
     "output_type": "execute_result"
    }
   ],
   "source": [
    "df1.age.quantile([.25,.5,.75])"
   ]
  },
  {
   "cell_type": "code",
   "execution_count": 26,
   "id": "bb6cf6dd",
   "metadata": {},
   "outputs": [
    {
     "data": {
      "text/plain": [
       "<Axes: >"
      ]
     },
     "execution_count": 26,
     "metadata": {},
     "output_type": "execute_result"
    },
    {
     "data": {
      "image/png": "[encoded data removed]",
      "text/plain": [
       "<Figure size 640x480 with 1 Axes>"
      ]
     },
     "metadata": {},
     "output_type": "display_data"
    }
   ],
   "source": [
    "df1.boxplot(column = \"age\")"
   ]
  },
  {
   "cell_type": "markdown",
   "id": "70ffc2b0",
   "metadata": {},
   "source": [
    "# Skewness and Kurtosis"
   ]
  },
  {
   "cell_type": "markdown",
   "id": "5ed245f4",
   "metadata": {},
   "source": [
    "1)Skewness: Skewness is a measure of the asymmetry of a distribution. A distribution is asymmetrical when its left and right side are not mirror images. "
   ]
  },
  {
   "cell_type": "code",
   "execution_count": 28,
   "id": "0370a32e",
   "metadata": {},
   "outputs": [
    {
     "data": {
      "text/plain": [
       "0.46105035479269363"
      ]
     },
     "execution_count": 28,
     "metadata": {},
     "output_type": "execute_result"
    }
   ],
   "source": [
    "df1.age.skew()"
   ]
  },
  {
   "cell_type": "markdown",
   "id": "1c96b4ed",
   "metadata": {},
   "source": [
    "2) Kurtosis: Kurtosis is a statistical measure used to describe the degree to which scores cluster in the tails or the peak of a frequency distribution."
   ]
  },
  {
   "cell_type": "code",
   "execution_count": 30,
   "id": "b5fbd8d9",
   "metadata": {},
   "outputs": [
    {
     "data": {
      "text/plain": [
       "-1.2598337950138507"
      ]
     },
     "execution_count": 30,
     "metadata": {},
     "output_type": "execute_result"
    }
   ],
   "source": [
    "df1.age.kurt()"
   ]
  },
  {
   "cell_type": "markdown",
   "id": "52f5bb19",
   "metadata": {},
   "source": [
    "# Inferential Statistics:\n",
    "Deals with inferring data which is unknown to us"
   ]
  },
  {
   "cell_type": "markdown",
   "id": "a1ce1582",
   "metadata": {},
   "source": [
    "Suppose we take a random population and want to know the average height"
   ]
  },
  {
   "cell_type": "code",
   "execution_count": 32,
   "id": "8b050340",
   "metadata": {},
   "outputs": [],
   "source": [
    "population = np.random.randint(10,20,1000)\n",
    "estimate = []\n",
    "np.random.seed(10)\n",
    "for x in range(200):\n",
    "    sample = np.random.choice(population,100)\n",
    "    estimate.append(np.mean(sample))"
   ]
  },
  {
   "cell_type": "code",
   "execution_count": 33,
   "id": "a0bafc56",
   "metadata": {},
   "outputs": [
    {
     "data": {
      "text/plain": [
       "14.507"
      ]
     },
     "execution_count": 33,
     "metadata": {},
     "output_type": "execute_result"
    }
   ],
   "source": [
    "np.mean(population)"
   ]
  },
  {
   "cell_type": "code",
   "execution_count": 34,
   "id": "e3f46bfd",
   "metadata": {},
   "outputs": [
    {
     "data": {
      "text/plain": [
       "[14.54,\n",
       " 14.43,\n",
       " 15.13,\n",
       " 14.16,\n",
       " 15.03,\n",
       " 14.55,\n",
       " 14.6,\n",
       " 15.06,\n",
       " 14.8,\n",
       " 14.66,\n",
       " 14.26,\n",
       " 14.69,\n",
       " 14.1,\n",
       " 14.18,\n",
       " 13.9,\n",
       " 14.42,\n",
       " 14.65,\n",
       " 14.7,\n",
       " 14.74,\n",
       " 14.88,\n",
       " 14.35,\n",
       " 14.74,\n",
       " 14.69,\n",
       " 14.65,\n",
       " 14.8,\n",
       " 14.59,\n",
       " 14.5,\n",
       " 14.75,\n",
       " 14.41,\n",
       " 14.0,\n",
       " 14.75,\n",
       " 14.35,\n",
       " 14.49,\n",
       " 14.62,\n",
       " 14.79,\n",
       " 14.46,\n",
       " 13.9,\n",
       " 14.9,\n",
       " 13.96,\n",
       " 14.24,\n",
       " 14.64,\n",
       " 14.41,\n",
       " 14.1,\n",
       " 14.63,\n",
       " 14.03,\n",
       " 14.71,\n",
       " 13.81,\n",
       " 14.56,\n",
       " 14.12,\n",
       " 14.32,\n",
       " 14.97,\n",
       " 14.22,\n",
       " 14.26,\n",
       " 14.61,\n",
       " 14.96,\n",
       " 14.42,\n",
       " 14.43,\n",
       " 14.68,\n",
       " 14.12,\n",
       " 14.6,\n",
       " 14.38,\n",
       " 14.03,\n",
       " 14.97,\n",
       " 14.45,\n",
       " 14.76,\n",
       " 14.52,\n",
       " 14.06,\n",
       " 14.18,\n",
       " 13.98,\n",
       " 14.04,\n",
       " 15.0,\n",
       " 14.33,\n",
       " 14.46,\n",
       " 14.11,\n",
       " 13.65,\n",
       " 14.27,\n",
       " 14.44,\n",
       " 14.54,\n",
       " 14.13,\n",
       " 14.09,\n",
       " 14.35,\n",
       " 14.43,\n",
       " 14.56,\n",
       " 13.96,\n",
       " 14.31,\n",
       " 13.71,\n",
       " 14.67,\n",
       " 14.54,\n",
       " 14.31,\n",
       " 14.14,\n",
       " 14.5,\n",
       " 14.55,\n",
       " 14.49,\n",
       " 14.87,\n",
       " 14.68,\n",
       " 14.24,\n",
       " 14.28,\n",
       " 14.28,\n",
       " 14.87,\n",
       " 14.79,\n",
       " 14.63,\n",
       " 14.57,\n",
       " 14.66,\n",
       " 14.44,\n",
       " 14.64,\n",
       " 14.48,\n",
       " 14.91,\n",
       " 14.6,\n",
       " 14.55,\n",
       " 14.19,\n",
       " 14.52,\n",
       " 14.76,\n",
       " 15.12,\n",
       " 14.59,\n",
       " 14.61,\n",
       " 14.86,\n",
       " 14.49,\n",
       " 14.69,\n",
       " 14.48,\n",
       " 14.13,\n",
       " 14.67,\n",
       " 15.12,\n",
       " 14.15,\n",
       " 14.01,\n",
       " 14.39,\n",
       " 14.42,\n",
       " 14.74,\n",
       " 14.14,\n",
       " 14.92,\n",
       " 14.88,\n",
       " 14.86,\n",
       " 14.35,\n",
       " 14.47,\n",
       " 14.62,\n",
       " 14.48,\n",
       " 14.8,\n",
       " 14.1,\n",
       " 14.13,\n",
       " 14.69,\n",
       " 14.72,\n",
       " 13.99,\n",
       " 15.07,\n",
       " 14.32,\n",
       " 14.74,\n",
       " 14.08,\n",
       " 14.34,\n",
       " 14.64,\n",
       " 14.38,\n",
       " 15.03,\n",
       " 14.76,\n",
       " 14.63,\n",
       " 14.5,\n",
       " 14.87,\n",
       " 14.6,\n",
       " 14.58,\n",
       " 14.48,\n",
       " 13.96,\n",
       " 14.8,\n",
       " 14.34,\n",
       " 14.97,\n",
       " 15.12,\n",
       " 14.62,\n",
       " 14.9,\n",
       " 14.2,\n",
       " 14.83,\n",
       " 14.09,\n",
       " 14.75,\n",
       " 14.51,\n",
       " 14.54,\n",
       " 13.79,\n",
       " 14.64,\n",
       " 14.48,\n",
       " 14.91,\n",
       " 13.65,\n",
       " 14.66,\n",
       " 14.49,\n",
       " 14.64,\n",
       " 14.39,\n",
       " 13.96,\n",
       " 14.59,\n",
       " 14.08,\n",
       " 14.95,\n",
       " 13.99,\n",
       " 14.67,\n",
       " 14.12,\n",
       " 14.6,\n",
       " 15.08,\n",
       " 14.14,\n",
       " 14.66,\n",
       " 14.32,\n",
       " 14.68,\n",
       " 14.54,\n",
       " 14.66,\n",
       " 14.38,\n",
       " 14.47,\n",
       " 14.55,\n",
       " 14.46,\n",
       " 14.49,\n",
       " 14.93,\n",
       " 14.71]"
      ]
     },
     "execution_count": 34,
     "metadata": {},
     "output_type": "execute_result"
    }
   ],
   "source": [
    "estimate\n"
   ]
  },
  {
   "cell_type": "markdown",
   "id": "b2ea71a0",
   "metadata": {},
   "source": [
    "# Density Plot:\n",
    "Density Plot is a type of data visualization tool. It is a variation of the histogram that uses ‘kernel smoothing’ while plotting the values. It is a continuous and smooth version of a histogram inferred from a data."
   ]
  },
  {
   "cell_type": "code",
   "execution_count": 40,
   "id": "85314797",
   "metadata": {},
   "outputs": [
    {
     "data": {
      "text/plain": [
       "<Axes: ylabel='Density'>"
      ]
     },
     "execution_count": 40,
     "metadata": {},
     "output_type": "execute_result"
    },
    {
     "data": {
      "image/png": "[encoded data removed]",
      "text/plain": [
       "<Figure size 640x480 with 1 Axes>"
      ]
     },
     "metadata": {},
     "output_type": "display_data"
    }
   ],
   "source": [
    "pd.DataFrame(estimate).plot(kind = \"density\")"
   ]
  },
  {
   "cell_type": "code",
   "execution_count": 42,
   "id": "db8c9dde",
   "metadata": {},
   "outputs": [
    {
     "data": {
      "text/plain": [
       "<Axes: ylabel='Frequency'>"
      ]
     },
     "execution_count": 42,
     "metadata": {},
     "output_type": "execute_result"
    },
    {
     "data": {
      "image/png": "[encoded data removed]",
      "text/plain": [
       "<Figure size 640x480 with 1 Axes>"
      ]
     },
     "metadata": {},
     "output_type": "display_data"
    }
   ],
   "source": [
    "pd.DataFrame(estimate).plot(kind = \"hist\")"
   ]
  },
  {
   "cell_type": "code",
   "execution_count": 44,
   "id": "0eb5f30e",
   "metadata": {},
   "outputs": [
    {
     "data": {
      "text/plain": [
       "<Axes: ylabel='Density'>"
      ]
     },
     "execution_count": 44,
     "metadata": {},
     "output_type": "execute_result"
    },
    {
     "data": {
      "image/png": "[encoded data removed]",
      "text/plain": [
       "<Figure size 640x480 with 1 Axes>"
      ]
     },
     "metadata": {},
     "output_type": "display_data"
    }
   ],
   "source": [
    "pd.DataFrame(population).plot(kind=\"density\")"
   ]
  },
  {
   "cell_type": "code",
   "execution_count": 45,
   "id": "112f1206",
   "metadata": {},
   "outputs": [
    {
     "data": {
      "text/plain": [
       "<Axes: ylabel='Frequency'>"
      ]
     },
     "execution_count": 45,
     "metadata": {},
     "output_type": "execute_result"
    },
    {
     "data": {
      "image/png": "[encoded data removed]",
      "text/plain": [
       "<Figure size 640x480 with 1 Axes>"
      ]
     },
     "metadata": {},
     "output_type": "display_data"
    }
   ],
   "source": [
    "pd.DataFrame(population).plot(kind=\"hist\")"
   ]
  },
  {
   "cell_type": "markdown",
   "id": "f2552d1c",
   "metadata": {},
   "source": [
    "# Confidence Interval\n",
    "A confidence interval, in statistics, refers to the probability that a population parameter will fall between a set of values for a certain proportion of times. \n",
    "\n",
    "# Margin of Error\n",
    "The margin of error is a statistic expressing the amount of random sampling error in the results of a survey"
   ]
  },
  {
   "cell_type": "code",
   "execution_count": 46,
   "id": "201eb382",
   "metadata": {},
   "outputs": [],
   "source": [
    "import scipy.stats as stats\n",
    "z_critical = stats.norm.ppf(q=0.975)"
   ]
  },
  {
   "cell_type": "code",
   "execution_count": 48,
   "id": "a41a4496",
   "metadata": {},
   "outputs": [],
   "source": [
    "t_critical = stats.t.ppf(q=0.975, df=24)"
   ]
  },
  {
   "cell_type": "code",
   "execution_count": 50,
   "id": "3aa5f5e6",
   "metadata": {},
   "outputs": [],
   "source": [
    "margin_of_error = z_critical*(np.std(estimate)/np.sqrt(200))"
   ]
  },
  {
   "cell_type": "code",
   "execution_count": 51,
   "id": "036077f3",
   "metadata": {},
   "outputs": [
    {
     "data": {
      "text/plain": [
       "14.450541750550627"
      ]
     },
     "execution_count": 51,
     "metadata": {},
     "output_type": "execute_result"
    }
   ],
   "source": [
    "np.mean(estimate)-margin_of_error"
   ]
  },
  {
   "cell_type": "code",
   "execution_count": 52,
   "id": "817572cb",
   "metadata": {},
   "outputs": [
    {
     "data": {
      "text/plain": [
       "14.537858249449375"
      ]
     },
     "execution_count": 52,
     "metadata": {},
     "output_type": "execute_result"
    }
   ],
   "source": [
    "np.mean(estimate)+margin_of_error"
   ]
  },
  {
   "cell_type": "code",
   "execution_count": null,
   "id": "b9588bb7",
   "metadata": {},
   "outputs": [],
   "source": []
  }
 ],
 "metadata": {
  "kernelspec": {
   "display_name": "Python 3 (ipykernel)",
   "language": "python",
   "name": "python3"
  },
  "language_info": {
   "codemirror_mode": {
    "name": "ipython",
    "version": 3
   },
   "file_extension": ".py",
   "mimetype": "text/x-python",
   "name": "python",
   "nbconvert_exporter": "python",
   "pygments_lexer": "ipython3",
   "version": "3.9.13"
  }
 },
 "nbformat": 4,
 "nbformat_minor": 5
}
