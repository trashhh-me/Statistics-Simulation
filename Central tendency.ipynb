{
 "cells": [
  {
   "cell_type": "code",
   "execution_count": 2,
   "id": "33d8ba3a",
   "metadata": {},
   "outputs": [],
   "source": [
    "import numpy as np\n",
    "import matplotlib.pyplot as plt\n",
    "%matplotlib inline\n"
   ]
  },
  {
   "cell_type": "markdown",
   "id": "8c8c2dba",
   "metadata": {},
   "source": [
    "<h1><b>Central Tendency</b></h1>"
   ]
  },
  {
   "cell_type": "code",
   "execution_count": 5,
   "id": "26a0866c",
   "metadata": {},
   "outputs": [
    {
     "name": "stdout",
     "output_type": "stream",
     "text": [
      "[5 3 2 6 2 5 6 2 4 4 5 4 2 6 5 3 5 2 3 5]\n"
     ]
    }
   ],
   "source": [
    "m = np.random.randint(2,7,20)\n",
    "print(m)"
   ]
  },
  {
   "cell_type": "code",
   "execution_count": 8,
   "id": "5f87049a",
   "metadata": {},
   "outputs": [
    {
     "name": "stdout",
     "output_type": "stream",
     "text": [
      "the mean of the data is: 3.95\n"
     ]
    }
   ],
   "source": [
    "mean = np.mean(m)\n",
    "print(\"the mean of the data is:\",mean)"
   ]
  },
  {
   "cell_type": "code",
   "execution_count": 9,
   "id": "8c72a077",
   "metadata": {
    "scrolled": true
   },
   "outputs": [
    {
     "name": "stdout",
     "output_type": "stream",
     "text": [
      "the median of the data is: 4.0\n"
     ]
    }
   ],
   "source": [
    "median = np.median(m)\n",
    "print(\"the median of the data is:\",median)"
   ]
  },
  {
   "cell_type": "markdown",
   "id": "682b3fc8",
   "metadata": {},
   "source": [
    "<h2>Keep in Mind</h2><br>\n",
    "Mode is not a part of the numpy library and must be imported from library statistics only."
   ]
  },
  {
   "cell_type": "code",
   "execution_count": 11,
   "id": "8db64475",
   "metadata": {},
   "outputs": [
    {
     "name": "stdout",
     "output_type": "stream",
     "text": [
      "the mode of the data is: 5\n"
     ]
    }
   ],
   "source": [
    "from statistics import mode\n",
    "print(\"the mode of the data is:\", mode(m))"
   ]
  },
  {
   "cell_type": "code",
   "execution_count": 12,
   "id": "268d09ae",
   "metadata": {},
   "outputs": [
    {
     "data": {
      "text/plain": [
       "array([11, 18,  9, 17,  2,  6, 49, 19, 17, 48, 26, 38, 43, 47, 43, 49,  7,\n",
       "       41, 41, 32, 27, 20, 37, 26, 29, 29, 34, 17, 10,  7, 37, 36,  3, 26,\n",
       "       41, 26, 12, 29, 20, 23, 35, 47, 44,  9, 27, 47, 45,  7, 38,  2, 37,\n",
       "        6, 13, 19, 33, 40, 41, 47,  3, 40, 34, 32, 46, 41, 25, 38, 47, 20,\n",
       "       39, 12, 27, 47, 23,  2, 36, 23, 15, 17, 35,  6, 44, 29,  8, 38,  2,\n",
       "        8, 19, 18,  3,  8, 33, 46,  2, 33,  9,  9, 45, 15,  8, 33])"
      ]
     },
     "execution_count": 12,
     "metadata": {},
     "output_type": "execute_result"
    }
   ],
   "source": [
    "population = np.random.randint(2,50,100)\n",
    "population\n"
   ]
  },
  {
   "cell_type": "code",
   "execution_count": 14,
   "id": "0ededa97",
   "metadata": {},
   "outputs": [
    {
     "data": {
      "text/plain": [
       "array([ 6, 39,  2, 39, 29, 47, 33, 35, 32,  6, 33, 26, 33, 18,  7, 45, 17,\n",
       "       26, 46, 36])"
      ]
     },
     "execution_count": 14,
     "metadata": {},
     "output_type": "execute_result"
    }
   ],
   "source": [
    "sample = np.random.choice(population, 20)\n",
    "sample\n"
   ]
  },
  {
   "cell_type": "code",
   "execution_count": 15,
   "id": "87c47ce3",
   "metadata": {},
   "outputs": [
    {
     "data": {
      "text/plain": [
       "27.75"
      ]
     },
     "execution_count": 15,
     "metadata": {},
     "output_type": "execute_result"
    }
   ],
   "source": [
    "np.mean(sample)"
   ]
  },
  {
   "cell_type": "code",
   "execution_count": 16,
   "id": "49a70216",
   "metadata": {},
   "outputs": [
    {
     "data": {
      "text/plain": [
       "32.5"
      ]
     },
     "execution_count": 16,
     "metadata": {},
     "output_type": "execute_result"
    }
   ],
   "source": [
    "np.median(sample)"
   ]
  },
  {
   "cell_type": "code",
   "execution_count": 17,
   "id": "2da32a1a",
   "metadata": {},
   "outputs": [
    {
     "data": {
      "text/plain": [
       "33"
      ]
     },
     "execution_count": 17,
     "metadata": {},
     "output_type": "execute_result"
    }
   ],
   "source": [
    "mode(sample)"
   ]
  },
  {
   "cell_type": "code",
   "execution_count": 18,
   "id": "74ebcbdb",
   "metadata": {},
   "outputs": [],
   "source": [
    "sample_1=np.random.choice(population, 10)\n",
    "sample_2=np.random.choice(population, 10)\n",
    "sample_3=np.random.choice(population, 10)\n",
    "sample_4=np.random.choice(population, 10)"
   ]
  },
  {
   "cell_type": "code",
   "execution_count": 20,
   "id": "0297ed5a",
   "metadata": {},
   "outputs": [
    {
     "data": {
      "text/plain": [
       "[24.4, 30.9, 30.2, 28.5]"
      ]
     },
     "execution_count": 20,
     "metadata": {},
     "output_type": "execute_result"
    }
   ],
   "source": [
    "all_samples = [sample_1, sample_2, sample_3, sample_4]\n",
    "sample_mean=[]\n",
    "for i in all_samples:\n",
    "    sample_mean.append(np.mean(i))\n",
    "    \n",
    "sample_mean"
   ]
  },
  {
   "cell_type": "code",
   "execution_count": null,
   "id": "bf2abf8a",
   "metadata": {},
   "outputs": [],
   "source": []
  }
 ],
 "metadata": {
  "kernelspec": {
   "display_name": "Python 3 (ipykernel)",
   "language": "python",
   "name": "python3"
  },
  "language_info": {
   "codemirror_mode": {
    "name": "ipython",
    "version": 3
   },
   "file_extension": ".py",
   "mimetype": "text/x-python",
   "name": "python",
   "nbconvert_exporter": "python",
   "pygments_lexer": "ipython3",
   "version": "3.9.13"
  }
 },
 "nbformat": 4,
 "nbformat_minor": 5
}
